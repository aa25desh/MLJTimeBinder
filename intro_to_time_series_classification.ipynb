{
 "cells": [
  {
   "cell_type": "markdown",
   "metadata": {},
   "source": [
    "# An Introduction to Time Series Classification in Julia\n",
    "\n",
    "## Preliminaries"
   ]
  },
  {
   "cell_type": "code",
   "execution_count": 1,
   "metadata": {},
   "outputs": [],
   "source": [
    "#using MLJ\n",
    "using MLJTime"
   ]
  },
  {
   "cell_type": "markdown",
   "metadata": {},
   "source": [
    "## Load data\n",
    "\n",
    "* link to data set description\n",
    "* plot a time series in X\n",
    "* show unique class values in y \n",
    "* describe what the learning problem is"
   ]
  },
  {
   "cell_type": "code",
   "execution_count": 2,
   "metadata": {},
   "outputs": [],
   "source": [
    "X, y = ts_dataset(\"Chinatown\");"
   ]
  },
  {
   "cell_type": "markdown",
   "metadata": {},
   "source": [
    "## Split data into training and test set\n",
    "\n",
    "* perhaps write a simpler function as in sklearn to do that in a single line of code"
   ]
  },
  {
   "cell_type": "code",
   "execution_count": 6,
   "metadata": {},
   "outputs": [
    {
     "data": {
      "text/plain": [
       "(Table with 109 rows, 24 columns:\n",
       "Columns:\n",
       "\u001b[1m#   \u001b[22m\u001b[1mcolname  \u001b[22m\u001b[1mtype\u001b[22m\n",
       "────────────────────\n",
       "1   1        Float64\n",
       "2   2        Float64\n",
       "3   3        Float64\n",
       "4   4        Float64\n",
       "5   5        Float64\n",
       "6   6        Float64\n",
       "7   7        Float64\n",
       "8   8        Float64\n",
       "9   9        Float64\n",
       "10  10       Float64\n",
       "11  11       Float64\n",
       "12  12       Float64\n",
       "13  13       Float64\n",
       "14  14       Float64\n",
       "15  15       Float64\n",
       "16  16       Float64\n",
       "17  17       Float64\n",
       "18  18       Float64\n",
       "19  19       Float64\n",
       "20  20       Float64\n",
       "21  21       Float64\n",
       "22  22       Float64\n",
       "23  23       Float64\n",
       "24  24       Float64, CategoricalArrays.CategoricalValue{Float64,UInt32}[1.0, 2.0, 2.0, 1.0, 2.0, 2.0, 2.0, 2.0, 2.0, 1.0  …  2.0, 2.0, 2.0, 1.0, 1.0, 1.0, 2.0, 1.0, 2.0, 2.0])"
      ]
     },
     "execution_count": 6,
     "metadata": {},
     "output_type": "execute_result"
    }
   ],
   "source": [
    "train, test = partition(eachindex(y), 0.7, shuffle=true, rng=1234); # 70:30 split\n",
    "\n",
    "X_train, y_train = X[train], y[train]\n",
    "X_test, y_test = X[test], y[test]"
   ]
  },
  {
   "cell_type": "markdown",
   "metadata": {},
   "source": [
    "## Build time series classification model\n",
    "\n",
    "* describe that we have the same interface as MLJ (hyper-parameters, machine, fit/predict, etc)\n",
    "* link to time series forest paper\n",
    "* describe algorithm in simple words"
   ]
  },
  {
   "cell_type": "code",
   "execution_count": 27,
   "metadata": {},
   "outputs": [
    {
     "data": {
      "text/plain": [
       "\u001b[34mMachine{TimeSeriesForestClassifier} @ 5…60\u001b[39m\n"
      ]
     },
     "execution_count": 27,
     "metadata": {},
     "output_type": "execute_result"
    }
   ],
   "source": [
    "model = TimeSeriesForestClassifier(n_trees=100)\n",
    "mach = machine(model, X_train, y_train)"
   ]
  },
  {
   "cell_type": "markdown",
   "metadata": {},
   "source": [
    "## Fit model"
   ]
  },
  {
   "cell_type": "code",
   "execution_count": 8,
   "metadata": {},
   "outputs": [
    {
     "name": "stderr",
     "output_type": "stream",
     "text": [
      "┌ Info: Training \u001b[34mMachine{TimeSeriesForestClassifier} @ 6…67\u001b[39m.\n",
      "└ @ MLJBase /Users/mloning/.julia/packages/MLJBase/8HOpr/src/machines.jl:187\n"
     ]
    },
    {
     "data": {
      "text/plain": [
       "\u001b[34mMachine{TimeSeriesForestClassifier} @ 6…67\u001b[39m\n"
      ]
     },
     "execution_count": 8,
     "metadata": {},
     "output_type": "execute_result"
    }
   ],
   "source": [
    "fit!(mach)"
   ]
  },
  {
   "cell_type": "markdown",
   "metadata": {},
   "source": [
    "## Make prediction"
   ]
  },
  {
   "cell_type": "code",
   "execution_count": 9,
   "metadata": {},
   "outputs": [],
   "source": [
    "y_pred = predict(mach, X_test);"
   ]
  },
  {
   "cell_type": "markdown",
   "metadata": {},
   "source": [
    "## Evaluate predictive performance"
   ]
  },
  {
   "cell_type": "code",
   "execution_count": 28,
   "metadata": {},
   "outputs": [
    {
     "data": {
      "text/plain": [
       "98.1651376146789"
      ]
     },
     "execution_count": 28,
     "metadata": {},
     "output_type": "execute_result"
    }
   ],
   "source": [
    "# this needs fixing\n",
    "y1 = map(x -> x.prob_given_ref[1]==1 ? 1 : 2, y_pred )\n",
    "MLJTime.L1(y1, y_test)"
   ]
  },
  {
   "cell_type": "markdown",
   "metadata": {},
   "source": [
    "## Tuning"
   ]
  },
  {
   "cell_type": "code",
   "execution_count": 16,
   "metadata": {},
   "outputs": [],
   "source": [
    "using MLJBase: L1, CV, range, cross_entropy\n",
    "using MLJTuning"
   ]
  },
  {
   "cell_type": "code",
   "execution_count": 24,
   "metadata": {},
   "outputs": [
    {
     "data": {
      "text/plain": [
       "\u001b[34mMachine{ProbabilisticTunedModel{Grid,…}} @ 6…74\u001b[39m\n"
      ]
     },
     "execution_count": 24,
     "metadata": {},
     "output_type": "execute_result"
    }
   ],
   "source": [
    "tsf = TimeSeriesForestClassifier()\n",
    "r = range(tsf, :n_trees, lower=100, upper=500, scale=:log)\n",
    "cv = CV(nfolds=10, shuffle=true)\n",
    "tuned_model = TunedModel(model=tsf, ranges=[r, ], measure=cross_entropy, resampling=cv)\n",
    "mach = machine(tuned_model, X_train, y_train)"
   ]
  },
  {
   "cell_type": "code",
   "execution_count": 25,
   "metadata": {},
   "outputs": [
    {
     "name": "stderr",
     "output_type": "stream",
     "text": [
      "┌ Info: Training \u001b[34mMachine{ProbabilisticTunedModel{Grid,…}} @ 6…74\u001b[39m.\n",
      "└ @ MLJBase /Users/mloning/.julia/packages/MLJBase/8HOpr/src/machines.jl:187\n",
      "┌ Info: Attempting to evaluate 10 models.\n",
      "└ @ MLJTuning /Users/mloning/.julia/packages/MLJTuning/JZ7ZX/src/tuned_models.jl:501\n",
      "\u001b[33mEvaluating over 10 metamodels: 100%[=========================] Time: 0:00:27\u001b[39m\n"
     ]
    },
    {
     "data": {
      "text/plain": [
       "\u001b[34mMachine{ProbabilisticTunedModel{Grid,…}} @ 6…74\u001b[39m\n"
      ]
     },
     "execution_count": 25,
     "metadata": {},
     "output_type": "execute_result"
    }
   ],
   "source": [
    "fit!(mach, force=true)"
   ]
  },
  {
   "cell_type": "code",
   "execution_count": 26,
   "metadata": {},
   "outputs": [
    {
     "ename": "UndefVarError",
     "evalue": "UndefVarError: fitted_params not defined",
     "output_type": "error",
     "traceback": [
      "UndefVarError: fitted_params not defined",
      "",
      "Stacktrace:",
      " [1] top-level scope at In[26]:1"
     ]
    }
   ],
   "source": [
    "fitted_params(mach).best_model"
   ]
  },
  {
   "cell_type": "code",
   "execution_count": 132,
   "metadata": {},
   "outputs": [],
   "source": [
    "y_pred = predict(mach, X_test);"
   ]
  },
  {
   "cell_type": "code",
   "execution_count": 133,
   "metadata": {},
   "outputs": [
    {
     "data": {
      "text/plain": [
       "88.07339449541284"
      ]
     },
     "execution_count": 133,
     "metadata": {},
     "output_type": "execute_result"
    }
   ],
   "source": [
    "y1 = map(x -> x.prob_given_ref[1]==1 ? 1 : 2, y_pred )\n",
    "MLJTime.L1(y1, y_test)"
   ]
  }
 ],
 "metadata": {
  "kernelspec": {
   "display_name": "Julia 1.4.2",
   "language": "julia",
   "name": "julia-1.4"
  },
  "language_info": {
   "file_extension": ".jl",
   "mimetype": "application/julia",
   "name": "julia",
   "version": "1.4.2"
  }
 },
 "nbformat": 4,
 "nbformat_minor": 4
}
